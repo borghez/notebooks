{
  "cells": [
    {
      "cell_type": "code",
      "execution_count": null,
      "metadata": {
        "id": "2HPIluDTog9t",
        "outputId": "47eb9380-1994-44a0-887e-62b73a667ef0"
      },
      "outputs": [
        {
          "name": "stderr",
          "output_type": "stream",
          "text": [
            "[nltk_data] Downloading package stopwords to\n",
            "[nltk_data]     C:\\Users\\Andrea.Bagante\\AppData\\Roaming\\nltk_data...\n",
            "[nltk_data]   Package stopwords is already up-to-date!\n",
            "c:\\Users\\Andrea.Bagante\\.virtualenvs\\ai-model-omnia-QHASXsB0\\Lib\\site-packages\\tqdm\\auto.py:21: TqdmWarning: IProgress not found. Please update jupyter and ipywidgets. See https://ipywidgets.readthedocs.io/en/stable/user_install.html\n",
            "  from .autonotebook import tqdm as notebook_tqdm\n"
          ]
        }
      ],
      "source": [
        "import numpy as np\n",
        "import pandas as pd\n",
        "import re\n",
        "import os\n",
        "import json\n",
        "import datetime\n",
        "import numpy as np\n",
        "import matplotlib.pyplot as plt\n",
        "import time\n",
        "import random\n",
        "import torch\n",
        "import lxml.html\n",
        "import nltk\n",
        "\n",
        "from nltk.corpus import stopwords\n",
        "nltk.download('stopwords')\n",
        "\n",
        "\n",
        "from lxml_html_clean import Cleaner\n",
        "from torch.utils.data import TensorDataset, DataLoader, RandomSampler, SequentialSampler, random_split\n",
        "from sklearn.metrics import classification_report, confusion_matrix, ConfusionMatrixDisplay\n",
        "from transformers import BertForSequenceClassification, BertTokenizer, get_linear_schedule_with_warmup\n",
        "\n",
        "#os.environ[\"PYTORCH_CUDA_ALLOC_CONF\"] = \"max_split_size_mb:1000\""
      ]
    },
    {
      "cell_type": "code",
      "execution_count": null,
      "metadata": {
        "id": "rtcSNtX_og9y"
      },
      "outputs": [],
      "source": [
        "with open(\".\\data\\super_category_id_10.json\", 'r', encoding=\"utf8\") as file:\n",
        "    data = json.load(file)"
      ]
    },
    {
      "cell_type": "code",
      "execution_count": null,
      "metadata": {
        "id": "1D5mly2Hog9z"
      },
      "outputs": [],
      "source": [
        "def combine_json(path):\n",
        "\n",
        "    folder_path=path\n",
        "\n",
        "    dataframes = []\n",
        "    lungz = []\n",
        "\n",
        "    for filename in os.listdir(folder_path):\n",
        "        if filename.endswith('.json'):\n",
        "            file_path = os.path.join(folder_path, filename)\n",
        "            with open(file_path, 'r', encoding=\"utf8\") as file:\n",
        "                data = json.load(file)\n",
        "                if \"params\" in data:\n",
        "                    df = pd.DataFrame(data[\"params\"][\"documents\"]).apply(pd.Series)\n",
        "                else:\n",
        "                    df = pd.DataFrame(data)\n",
        "\n",
        "                lungh = df.shape[0]\n",
        "                lungz.append(lungh)\n",
        "                dataframes.append(df)\n",
        "\n",
        "    if dataframes:\n",
        "        combined_df = pd.concat(dataframes, ignore_index=True)\n",
        "    else:\n",
        "        print('Attenzione, nessun dataframe creato')\n",
        "\n",
        "    if 'super_category_id' in combined_df.columns:\n",
        "        combined_df['super_category_id'] = combined_df['super_category_id'].astype(int)\n",
        "\n",
        "    return combined_df\n",
        "\n",
        "\n",
        "def clean_text(text, language: str):\n",
        "\n",
        "    assert isinstance(language, str), 'Strings only!'\n",
        "\n",
        "    sw = stopwords.words(language)\n",
        "\n",
        "    text = text.lower()\n",
        "    text = re.sub(r\"[^a-zA-Z?.!,¿]+\", \" \", text) # replacing everything with space except (a-z, A-Z, \".\", \"?\", \"!\", \",\")\n",
        "    text = re.sub(r\"http\\S+\", \"\",text) #Removing URLs\n",
        "    #text = re.sub(r\"http\", \"\",text)\n",
        "    html=re.compile(r'<.*?>')\n",
        "    #text = html.sub(r'',text) #Removing html tags\n",
        "\n",
        "    #punctuations = '@#!?+&*[]-%.:/();$=><|{}^' + \"'`\" + '_'\n",
        "    #for p in punctuations:\n",
        "    #    text = text.replace(p,'') #Removing punctuations\n",
        "\n",
        "    text = [word.lower() for word in text.split() if word.lower() not in sw]\n",
        "    text = \" \".join(text) #removing stopwords\n",
        "\n",
        "    emoji_pattern = re.compile(\"[\"\n",
        "                           u\"\\U0001F600-\\U0001F64F\"  # emoticons\n",
        "                           u\"\\U0001F300-\\U0001F5FF\"  # symbols & pictographs\n",
        "                           u\"\\U0001F680-\\U0001F6FF\"  # transport & map symbols\n",
        "                           u\"\\U0001F1E0-\\U0001F1FF\"  # flags (iOS)\n",
        "                           u\"\\U00002702-\\U000027B0\"\n",
        "                           u\"\\U000024C2-\\U0001F251\"\n",
        "                           \"]+\", flags=re.UNICODE)\n",
        "    text = emoji_pattern.sub(r'', text) #Removing emojis\n",
        "\n",
        "    regex_compiled = [\n",
        "    r\"(c\\.p\\.?c\\.?)\", ## cpc, c.p.c, etcc (codice procedura civile)\n",
        "    r\"(c\\.c\\.?)\", ## codice civile\n",
        "    r\"([\\W+])(art\\.?)([\\s+|\\d+])\", ## articolo\n",
        "    r\"([\\W+])(artt\\.?)([\\s+|\\d+])\", ## articoli\n",
        "    r\"([a-zA-Z])()(\\d)\", ## stacca lettera da numero\n",
        "    r\"(\\d)()([a-zA-Z])\", ## stacca numero da lettera\n",
        "    r\"(-+)\",\n",
        "    r\"(\\u00A0{2,})\",\n",
        "    r\"(<ul\\.*[^>]*>)(.*?)(</ul>)\",\n",
        "    r\"(<li\\.*[^>]*>)(.*?)(</li>)\",\n",
        "    r\"(<ol\\.*[^>]*>)(.*?)(</ol>)\",\n",
        "    r\"(_______________________________________________________________________________________________________)\",\n",
        "    r\"(_{2,})\",\n",
        "    r\"([a-z]{1})()([A-Z]{1})\",\n",
        "    r\"(<em\\.*[^>]*>)(.*?)(</em>)\"\n",
        "    ]\n",
        "    regex_compiled_subs = [\n",
        "    r\"codice procedura civile\",\n",
        "    r\"codice civile\",\n",
        "    r\"\\1articolo\\3\",\n",
        "    r\"\\1articoli\\3\",\n",
        "    r\"\\1 \\3\",\n",
        "    r\"\\1 \\3\",\n",
        "    r\"\",\n",
        "    r\" [campo] \",\n",
        "    r\"\\n\\2\\n\",\n",
        "    r\"\\n\\2\\n\",\n",
        "    r\"\\n\\2\\n\",\n",
        "    r\" \",\n",
        "    r\" \",\n",
        "    r\"\\1 \\3\",\n",
        "    r\"\\2\"\n",
        "    ]\n",
        "    regex_compiled_spaces = [\n",
        "        r\"(\\s{3,})\", ##spazi in eccesso\n",
        "    r\"(\\n{3,})\" ## almeno un 'a capo'\n",
        "    ]\n",
        "    regex_compiled_spaces_subs = [\n",
        "    r\" \",\n",
        "    r\" \"\n",
        "    ]\n",
        "\n",
        "\n",
        "    for c, s in zip(regex_compiled, regex_compiled_subs):\n",
        "        text = re.compile(c).sub(s, text)\n",
        "    for c, s in zip(regex_compiled_spaces, regex_compiled_spaces_subs):\n",
        "        text = re.compile(c).sub(s, text)\n",
        "\n",
        "    \"\"\"metodo per rimuovere eventualmente dell'html dal testo\"\"\"\n",
        "    cleaner = Cleaner(page_structure=False, links=False)\n",
        "    doc_from_text = lxml.html.fromstring(text)\n",
        "    doc_from_text = cleaner.clean_html(html=doc_from_text)\n",
        "    text = doc_from_text.text_content()\n",
        "\n",
        "\n",
        "    return text\n",
        "\n",
        "\n",
        "#range(0, len(text), max_length) genera una sequenza di numeri che parte da 0 e arriva fino alla lunghezza del testo (len(text)), con incrementi di max_length\n",
        "#Per ogni valore di i generato dal range, viene preso un “chunk” del testo che va dall’indice i all’indice i + max_length.\n",
        "def split_and_chunk_dataframe(df, text_column, id_column, name_column, max_length):\n",
        "    chunks = []\n",
        "    classes = []\n",
        "    names = []\n",
        "\n",
        "    def split_text_into_chunks(text, max_length):\n",
        "        return [text[i:i+max_length] for i in range(0, len(text), max_length)]\n",
        "\n",
        "    for _, row in df.iterrows():\n",
        "        text_chunks = split_text_into_chunks(row[text_column], max_length)\n",
        "        chunks.extend(text_chunks)\n",
        "        classes.extend([row[id_column]] * len(text_chunks))\n",
        "        names.extend([row[name_column]] * len(text_chunks))\n",
        "\n",
        "    chunked_df = pd.DataFrame({\n",
        "        text_column: chunks,\n",
        "        id_column: classes,\n",
        "        name_column: names\n",
        "    })\n",
        "\n",
        "    return chunked_df\n",
        "\n",
        "\n",
        "def balancing_df(df, id_column: str, perce:int):\n",
        "\n",
        "    assert isinstance(id_column, str), 'Strings only!'\n",
        "    assert isinstance(perce, (int, float)), 'It must be a number!'\n",
        "\n",
        "    if isinstance(perce, int):\n",
        "        perce = perce\n",
        "    else:\n",
        "        perce = perce*100\n",
        "\n",
        "    label_counts = df[id_column].value_counts()\n",
        "\n",
        "    median_count = label_counts.median()\n",
        "    #mantengo solo i dati che hanno almeno il perce% in più o in meno di dati rispetto la mediana\n",
        "\n",
        "    upper_limit = median_count * (1+(perce/100))\n",
        "    lower_limit = median_count * (1-(perce/100))\n",
        "\n",
        "\n",
        "    #filtro\n",
        "    valid_classes = label_counts[(label_counts >= lower_limit) & (label_counts <= upper_limit)].index\n",
        "\n",
        "    # Mantenere solo i dati delle classi valide\n",
        "    cutted_df = df[df[id_column].isin(valid_classes)]\n",
        "\n",
        "    print(label_counts[label_counts >= upper_limit].index)\n",
        "    # Per le classi che eccedono il (100+perc)%, ridurre casualmente i dati\n",
        "    exceeding_classes = label_counts[label_counts >= upper_limit].index\n",
        "\n",
        "    sampled_df_list=[]\n",
        "\n",
        "    for label in exceeding_classes:\n",
        "        class_data = df[df[id_column] == label]\n",
        "        sampled_data = class_data.sample(n=int(upper_limit), random_state=42)\n",
        "        #print(sampled_data)\n",
        "        sampled_df_list.append(sampled_data)\n",
        "\n",
        "        sampled_df = pd.concat(sampled_df_list, ignore_index=True)\n",
        "        final_df = pd.concat([cutted_df, sampled_df], ignore_index=True)\n",
        "\n",
        "    final_df = final_df.sort_values(by='super_category_id', ascending=True)\n",
        "\n",
        "    return final_df\n",
        "\n",
        "\n",
        "def map_labels_based_on_column(df, column_name):\n",
        "    unique_values = sorted(df[column_name].unique())\n",
        "    mapping = {value: index for index, value in enumerate(unique_values)}\n",
        "    labels_old = df[column_name].values\n",
        "    labels = [mapping[x] for x in labels_old]\n",
        "    return labels\n",
        "\n",
        "\n",
        "def flat_accuracy(preds, labels):\n",
        "    pred_flat = np.argmax(preds, axis=1).flatten()\n",
        "    labels_flat = labels.flatten()\n",
        "    return np.sum(pred_flat == labels_flat) / len(labels_flat)\n",
        "\n",
        "\n",
        "def format_time(elapsed):\n",
        "    elapsed_rounded = int(round((elapsed)))\n",
        "    return str(datetime.timedelta(seconds=elapsed_rounded))\n",
        "\n"
      ]
    },
    {
      "cell_type": "code",
      "execution_count": null,
      "metadata": {
        "id": "gxrIx8riog91",
        "outputId": "22a48b3f-6e17-4150-90e9-0c76948f7012"
      },
      "outputs": [
        {
          "name": "stdout",
          "output_type": "stream",
          "text": [
            "2.1.2+cu121\n",
            "True\n",
            "cuda:0\n"
          ]
        }
      ],
      "source": [
        "# Valuto se la GPU è disponibile\n",
        "print(torch.__version__)\n",
        "print(torch.cuda.is_available())\n",
        "device = torch.device(\"cuda:0\" if torch.cuda.is_available() else \"cpu\")\n",
        "#device = torch.device(\"cpu\")\n",
        "print(device)"
      ]
    },
    {
      "cell_type": "code",
      "execution_count": 1,
      "metadata": {
        "id": "t0Ih8eapog91"
      },
      "outputs": [],
      "source": [
        "# Combino i dati contenuti nei jsons in unico dataframe\n",
        "folder_path = '.\\data'\n",
        "combined_df = combine_json(folder_path)\n",
        "#combined_df"
      ]
    },
    {
      "cell_type": "code",
      "execution_count": null,
      "metadata": {
        "id": "y75elCjVog92",
        "outputId": "456bc271-766a-4619-f433-d5fff010bf47"
      },
      "outputs": [
        {
          "data": {
            "text/plain": [
              "super_category_id\n",
              "1     2385\n",
              "5      758\n",
              "2      375\n",
              "10     300\n",
              "8      300\n",
              "6      262\n",
              "12     122\n",
              "11     109\n",
              "3        7\n",
              "Name: count, dtype: int64"
            ]
          },
          "execution_count": 7,
          "metadata": {},
          "output_type": "execute_result"
        }
      ],
      "source": [
        "combined_df['super_category_id'].value_counts()"
      ]
    },
    {
      "cell_type": "code",
      "execution_count": null,
      "metadata": {
        "id": "ifWah20fog93",
        "outputId": "b13cb39c-602c-4cb3-95b2-e73912a67aeb"
      },
      "outputs": [
        {
          "data": {
            "text/plain": [
              "{1, 2, 3, 5, 6, 8, 10, 11, 12}"
            ]
          },
          "execution_count": 8,
          "metadata": {},
          "output_type": "execute_result"
        }
      ],
      "source": [
        "set(combined_df['super_category_id'])"
      ]
    },
    {
      "cell_type": "code",
      "execution_count": null,
      "metadata": {
        "id": "F3SOs2GRog94",
        "outputId": "4e9616cc-1e4c-450c-9fed-c90b98909a84"
      },
      "outputs": [
        {
          "data": {
            "text/plain": [
              "{1, 2, 3, 5, 6, 8, 10, 11, 12}"
            ]
          },
          "execution_count": 9,
          "metadata": {},
          "output_type": "execute_result"
        }
      ],
      "source": [
        "# Pulisco il testo\n",
        "combined_df['paragraph_body'] = combined_df['paragraph_body'].apply(lambda x: clean_text(x, 'italian'))\n",
        "set(combined_df['super_category_id'])"
      ]
    },
    {
      "cell_type": "code",
      "execution_count": null,
      "metadata": {
        "id": "_x7gkFppog94",
        "outputId": "ee72e68f-7647-423d-e353-67a1214a7f61"
      },
      "outputs": [
        {
          "data": {
            "text/plain": [
              "{1, 2, 3, 5, 6, 8, 10, 11, 12}"
            ]
          },
          "execution_count": 10,
          "metadata": {},
          "output_type": "execute_result"
        }
      ],
      "source": [
        "# Divido i testi in chunk di massimo 512 caratteri (massimo accettato da BERT)\n",
        "chunked_combined_df = split_and_chunk_dataframe(combined_df, 'paragraph_body', 'super_category_id', 'super_category_name', 512)\n",
        "set(chunked_combined_df['super_category_id'])"
      ]
    },
    {
      "cell_type": "code",
      "execution_count": null,
      "metadata": {
        "id": "WRLqlFqxog95",
        "outputId": "dbb78953-b1d3-428a-ee31-47a2139fd31a"
      },
      "outputs": [
        {
          "data": {
            "text/plain": [
              "super_category_id\n",
              "1     20950\n",
              "11     6050\n",
              "2      4054\n",
              "5      4052\n",
              "6      2209\n",
              "10     1674\n",
              "8      1167\n",
              "12      421\n",
              "3        20\n",
              "Name: count, dtype: int64"
            ]
          },
          "execution_count": 11,
          "metadata": {},
          "output_type": "execute_result"
        }
      ],
      "source": [
        "chunked_combined_df['super_category_id'].value_counts()"
      ]
    },
    {
      "cell_type": "code",
      "execution_count": null,
      "metadata": {
        "id": "hUJjQ6ofog95",
        "outputId": "361d905b-e7d6-4b6e-a20c-dd646c632383"
      },
      "outputs": [
        {
          "name": "stdout",
          "output_type": "stream",
          "text": [
            "Index([1, 11, 2, 5], dtype='int64', name='super_category_id')\n"
          ]
        },
        {
          "data": {
            "text/plain": [
              "{1, 2, 5, 6, 8, 10, 11}"
            ]
          },
          "execution_count": 12,
          "metadata": {},
          "output_type": "execute_result"
        }
      ],
      "source": [
        "# Bilancio le classi: rimuovo le classi che hanno più o meno del tot% rispetto alla MEDIANA\n",
        "perc = 0.7\n",
        "final_df = balancing_df(chunked_combined_df, 'super_category_id', perc)\n",
        "set(final_df['super_category_id'])"
      ]
    },
    {
      "cell_type": "code",
      "execution_count": null,
      "metadata": {
        "id": "Sz_XG7dkog95"
      },
      "outputs": [],
      "source": [
        "# Mappo le label in modo tale che siano in range [0, #categorie-1]\n",
        "labels = map_labels_based_on_column(final_df, 'super_category_id')"
      ]
    },
    {
      "cell_type": "code",
      "execution_count": null,
      "metadata": {
        "id": "Ep9DkoORog95",
        "outputId": "18b622c1-d39a-447f-83d9-64303106c9f6"
      },
      "outputs": [
        {
          "data": {
            "text/plain": [
              "{0, 1, 2, 3, 4, 5, 6}"
            ]
          },
          "execution_count": 14,
          "metadata": {},
          "output_type": "execute_result"
        }
      ],
      "source": [
        "set(labels)"
      ]
    },
    {
      "cell_type": "code",
      "execution_count": null,
      "metadata": {
        "id": "sakIKAxLog96",
        "outputId": "3e2709d7-a6bf-4bea-a6df-25b9f2399b1f"
      },
      "outputs": [
        {
          "name": "stderr",
          "output_type": "stream",
          "text": [
            "c:\\Users\\Andrea.Bagante\\.virtualenvs\\ai-model-omnia-QHASXsB0\\Lib\\site-packages\\transformers\\tokenization_utils_base.py:1601: FutureWarning: `clean_up_tokenization_spaces` was not set. It will be set to `True` by default. This behavior will be depracted in transformers v4.45, and will be then set to `False` by default. For more details check this issue: https://github.com/huggingface/transformers/issues/31884\n",
            "  warnings.warn(\n"
          ]
        }
      ],
      "source": [
        "# Carico il tokenizer di BERT e valuto qual è la massima lunghezza delle frasi (sarà 512)\n",
        "tokenizer = BertTokenizer.from_pretrained('bert-base-uncased', do_lower_case=True)\n",
        "max_len = 0\n",
        "\n",
        "for sent in final_df.paragraph_body:\n",
        "\n",
        "    input_ids = tokenizer.encode(sent, add_special_tokens=True)\n",
        "    max_len = max(max_len, len(input_ids))"
      ]
    },
    {
      "cell_type": "code",
      "execution_count": null,
      "metadata": {
        "id": "pEIHDJKyog96",
        "outputId": "57c80b38-bb1f-407e-f7d9-c8d825435207"
      },
      "outputs": [
        {
          "data": {
            "text/plain": [
              "{0, 1, 2, 3, 4, 5, 6}"
            ]
          },
          "execution_count": 16,
          "metadata": {},
          "output_type": "execute_result"
        }
      ],
      "source": [
        "set(labels)"
      ]
    },
    {
      "cell_type": "code",
      "execution_count": null,
      "metadata": {
        "id": "sf_Nk6QAog96",
        "outputId": "a1f0938a-756c-4216-b711-8ee2b0e54faa"
      },
      "outputs": [
        {
          "name": "stderr",
          "output_type": "stream",
          "text": [
            "Truncation was not explicitly activated but `max_length` is provided a specific value, please use `truncation=True` to explicitly truncate examples to max length. Defaulting to 'longest_first' truncation strategy. If you encode pairs of sequences (GLUE-style) with the tokenizer you can select this strategy more precisely by providing a specific strategy to `truncation`.\n",
            "c:\\Users\\Andrea.Bagante\\.virtualenvs\\ai-model-omnia-QHASXsB0\\Lib\\site-packages\\transformers\\tokenization_utils_base.py:2870: FutureWarning: The `pad_to_max_length` argument is deprecated and will be removed in a future version, use `padding=True` or `padding='longest'` to pad to the longest sequence in the batch, or use `padding='max_length'` to pad to a max length. In this case, you can give a specific length with `max_length` (e.g. `max_length=45`) or leave max_length to None to pad to the maximal input size of the model (e.g. 512 for Bert).\n",
            "  warnings.warn(\n",
            "C:\\Users\\Andrea.Bagante\\AppData\\Local\\Temp\\ipykernel_26152\\4126663804.py:28: UserWarning: To copy construct from a tensor, it is recommended to use sourceTensor.clone().detach() or sourceTensor.clone().detach().requires_grad_(True), rather than torch.tensor(sourceTensor).\n",
            "  input_ids = torch.tensor(input_ids, dtype=torch.long)\n",
            "C:\\Users\\Andrea.Bagante\\AppData\\Local\\Temp\\ipykernel_26152\\4126663804.py:30: UserWarning: To copy construct from a tensor, it is recommended to use sourceTensor.clone().detach() or sourceTensor.clone().detach().requires_grad_(True), rather than torch.tensor(sourceTensor).\n",
            "  attention_masks = torch.tensor(attention_masks, dtype=torch.float64)\n"
          ]
        }
      ],
      "source": [
        "# Loop per creare i token e calcolare gli embeddings tramite BERT\n",
        "input_ids = []\n",
        "attention_masks = []\n",
        "\n",
        "# For every text...\n",
        "for text in final_df.paragraph_body:\n",
        "    # `encode_plus` will:\n",
        "    #   (1) Tokenize the sentence.\n",
        "    #   (2) Prepend the `[CLS]` token to the start.\n",
        "    #   (3) Append the `[SEP]` token to the end.\n",
        "    #   (4) Map tokens to their IDs.\n",
        "    #   (5) Pad or truncate the sentence to `max_length`\n",
        "    #   (6) Create attention masks for [PAD] tokens.\n",
        "    encoded_dict = tokenizer.encode_plus(\n",
        "                        text,                      # Sentence to encode.\n",
        "                        add_special_tokens = True, # Add '[CLS]' and '[SEP]'\n",
        "                        max_length = max_len,           # Pad & truncate all sentences.\n",
        "                        pad_to_max_length = True,\n",
        "                        return_attention_mask = True,   # Construct attn. masks.    '''CAMBIATO A FALSE'''\n",
        "                        return_tensors = 'pt',     # Return pytorch tensors.\n",
        "                   )\n",
        "\n",
        "    input_ids.append(encoded_dict['input_ids'])\n",
        "    attention_masks.append(encoded_dict['attention_mask'])\n",
        "\n",
        "# Trasformo gli embedding, le attention mask e le labels in tensori: devono essere salvati cossì per allenare i modelli con pytorch\n",
        "input_ids = torch.cat(input_ids, dim=0)\n",
        "input_ids = torch.tensor(input_ids, dtype=torch.long)\n",
        "attention_masks = torch.cat(attention_masks, dim=0)\n",
        "attention_masks = torch.tensor(attention_masks, dtype=torch.float64)\n",
        "labels = torch.tensor(labels, dtype=torch.long)\n"
      ]
    },
    {
      "cell_type": "code",
      "execution_count": null,
      "metadata": {
        "id": "rtlJv5joog96"
      },
      "outputs": [],
      "source": [
        "# Creo i dataset di training, validation e testing con la proporzionalità scelta. Se il testset non avesse le labels, dovrei creare un TensorDataset specifico per lui.\n",
        "dataset = TensorDataset(input_ids, attention_masks, labels)\n",
        "\n",
        "train_size = 0.7\n",
        "validation_size = 0.2\n",
        "testing_size = 0.1\n",
        "train_dataset, val_dataset, test_dataset = random_split(dataset, [train_size, validation_size, testing_size])\n",
        "\n",
        "batch_size = 16   # è il numero di campioni utilizzati in un forward e backward pass attraverso la rete. 32 dà problemi di memoria\n",
        "\n",
        "train_dataloader = DataLoader(\n",
        "            train_dataset,\n",
        "            sampler = RandomSampler(train_dataset),  #shuffle = True\n",
        "            batch_size = batch_size\n",
        "        )\n",
        "\n",
        "validation_dataloader = DataLoader(\n",
        "            val_dataset,\n",
        "            sampler = SequentialSampler(val_dataset),  #nothing\n",
        "            batch_size = batch_size\n",
        "        )\n",
        "\n",
        "# train_dataloader creato nella parte di testing"
      ]
    },
    {
      "cell_type": "code",
      "execution_count": null,
      "metadata": {
        "id": "VWNyQePEog96",
        "outputId": "b69b8a90-a595-4cf6-87c2-2a5c25020bfe"
      },
      "outputs": [
        {
          "name": "stderr",
          "output_type": "stream",
          "text": [
            "Some weights of BertForSequenceClassification were not initialized from the model checkpoint at bert-base-uncased and are newly initialized: ['classifier.bias', 'classifier.weight']\n",
            "You should probably TRAIN this model on a down-stream task to be able to use it for predictions and inference.\n"
          ]
        }
      ],
      "source": [
        "# Carico il modello BertForSequenceClassification, il modello pretrained di BERT con un singolo layer finale di classificazione\n",
        "model = BertForSequenceClassification.from_pretrained(    #!!!  CHECK AutoModelForSequenceClassification  !!!\n",
        "    \"bert-base-uncased\",            # Scelgo il modello tra quelli disponibili (cambiano alcuni layer).\n",
        "    num_labels = 7,                 # Numero di output del modello, da cambiare in base al numero di categorie.\n",
        "    output_attentions = False,\n",
        "    output_hidden_states = False,\n",
        ")\n",
        "\n",
        "# Carico il modello sulla GPU\n",
        "model = model.to(device)"
      ]
    },
    {
      "cell_type": "code",
      "execution_count": null,
      "metadata": {
        "id": "jSCFokDaog97",
        "outputId": "b98cf152-148d-4efc-9bf6-601a45c4b218"
      },
      "outputs": [
        {
          "name": "stdout",
          "output_type": "stream",
          "text": [
            "\n",
            "======== Epoch 1 / 4 ========\n",
            "Training...\n",
            "\n",
            "  Average training loss: 0.51\n",
            "  Training epcoh took: 0:02:57\n",
            "\n",
            "Running Validation...\n",
            "  Accuracy: 0.94\n",
            "\n",
            "======== Epoch 2 / 4 ========\n",
            "Training...\n",
            "\n",
            "  Average training loss: 0.16\n",
            "  Training epcoh took: 0:02:59\n",
            "\n",
            "Running Validation...\n",
            "  Accuracy: 0.95\n",
            "\n",
            "======== Epoch 3 / 4 ========\n",
            "Training...\n",
            "\n",
            "  Average training loss: 0.10\n",
            "  Training epcoh took: 0:02:59\n",
            "\n",
            "Running Validation...\n",
            "  Accuracy: 0.97\n",
            "\n",
            "======== Epoch 4 / 4 ========\n",
            "Training...\n",
            "\n",
            "  Average training loss: 0.07\n",
            "  Training epcoh took: 0:02:59\n",
            "\n",
            "Running Validation...\n",
            "  Accuracy: 0.97\n",
            "\n",
            "Training complete!\n",
            "Total training took 0:13:05 (h:mm:ss)\n"
          ]
        }
      ],
      "source": [
        "# Training and validation loops\n",
        "\n",
        "#from tqdm.auto import tqdm\n",
        "\n",
        "#progress_bar = tqdm(range(num_training_steps))\n",
        "\n",
        "\n",
        "\n",
        "epochs = 4 #Solitamente se ne mettono molte e si usano i callbacks con gli early_stoppings: fermano l'allenamento quando non apprende più e sta per overfittare.\n",
        "\n",
        "seed_val = 42\n",
        "random.seed(seed_val)\n",
        "np.random.seed(seed_val)\n",
        "torch.manual_seed(seed_val)\n",
        "torch.cuda.manual_seed_all(seed_val)\n",
        "\n",
        "training_stats = []\n",
        "\n",
        "total_t0 = time.time()\n",
        "optimizer = torch.optim.AdamW(model.parameters(), lr = 2e-5, eps = 1e-8) # lr = 5e-5\n",
        "total_steps = len(train_dataloader) * epochs\n",
        "scheduler = get_linear_schedule_with_warmup(optimizer, num_warmup_steps = 0, num_training_steps = total_steps)\n",
        "#scheduler = get_scheduler(name=\"linear\", optimizer=optimizer, num_warmup_steps=0, num_training_steps=num_training_steps)\n",
        "\n",
        "for epoch_i in range(0, epochs):\n",
        "\n",
        "\n",
        "    # Training\n",
        "\n",
        "    print(\"\")\n",
        "    print('======== Epoch {:} / {:} ========'.format(epoch_i + 1, epochs))\n",
        "    print('Training...')\n",
        "\n",
        "    t0 = time.time()\n",
        "    total_train_loss = 0\n",
        "\n",
        "    model.train()\n",
        "\n",
        "    for step, batch in enumerate(train_dataloader):\n",
        "        # Unpack del batch di training dal dataloader, i tensori vengono copiati sulla GPU\n",
        "        # il batch contiene tre tensori':\n",
        "        #   [0]: input ids\n",
        "        #   [1]: attention masks\n",
        "        #   [2]: labels\n",
        "        b_input_ids = batch[0]\n",
        "        b_input_ids = b_input_ids.type(torch.LongTensor)\n",
        "        b_input_ids = b_input_ids.to(device)\n",
        "        b_input_mask = batch[1].to(device)\n",
        "        b_labels = batch[2].to(device)\n",
        "        optimizer.zero_grad()\n",
        "        output = model(b_input_ids,\n",
        "                        token_type_ids=None,\n",
        "                        attention_mask=b_input_mask,\n",
        "                        labels=b_labels)\n",
        "        loss = output.loss\n",
        "        total_train_loss += loss.item()\n",
        "        loss.backward()\n",
        "\n",
        "        # Clippa la norma del gradiente a 1.0. Serve per prevenire il problema dell'\"exploding gradients\"\n",
        "        torch.nn.utils.clip_grad_norm_(model.parameters(), 1.0)   #da capire questo\n",
        "\n",
        "        optimizer.step()\n",
        "        scheduler.step()\n",
        "\n",
        "        #progress_bar.update(1)\n",
        "\n",
        "\n",
        "    # Calcolo della loss media attraverso tutti i batches\n",
        "    avg_train_loss = total_train_loss / len(train_dataloader)\n",
        "\n",
        "    # Controllo quanto tempo ha impiegato questa epoca di allenamento.\n",
        "    training_time = format_time(time.time() - t0)\n",
        "    print(\"\")\n",
        "    print(\"  Average training loss: {0:.2f}\".format(avg_train_loss))\n",
        "    print(\"  Training epcoh took: {:}\".format(training_time))\n",
        "\n",
        "\n",
        "    # Validation\n",
        "\n",
        "    print(\"\")\n",
        "    print(\"Running Validation...\")\n",
        "\n",
        "    t0 = time.time()\n",
        "    total_eval_accuracy = 0\n",
        "    best_eval_accuracy = 0\n",
        "    total_eval_loss = 0\n",
        "    nb_eval_steps = 0\n",
        "\n",
        "    model.eval()\n",
        "\n",
        "    for batch in validation_dataloader:\n",
        "        b_input_ids = batch[0]\n",
        "        b_input_ids = b_input_ids.type(torch.LongTensor)\n",
        "        b_input_ids = b_input_ids.to(device)\n",
        "        b_input_mask = batch[1].to(device)\n",
        "        b_labels = batch[2].to(device)\n",
        "\n",
        "        with torch.no_grad():   # non mi serve calcolare il gradiente perché il training è già stato fatto\n",
        "            output= model(b_input_ids,\n",
        "                        token_type_ids=None,\n",
        "                        attention_mask=b_input_mask,\n",
        "                        labels=b_labels)\n",
        "        loss = output.loss\n",
        "        total_eval_loss += loss.item()\n",
        "\n",
        "        logits = output.logits\n",
        "        logits = logits.detach().cpu().numpy()  # distacco dal batch i risultati e li salvo sulla CPU\n",
        "        label_ids = b_labels.to('cpu').numpy()\n",
        "\n",
        "        total_eval_accuracy += flat_accuracy(logits, label_ids) # salvo l'accuracy del batch\n",
        "\n",
        "    avg_val_accuracy = total_eval_accuracy / len(validation_dataloader) # media delle accuracy (accuracy di ogni batch/#tot dei batch)\n",
        "    print(\"  Accuracy: {0:.2f}\".format(avg_val_accuracy))\n",
        "\n",
        "    avg_val_loss = total_eval_loss / len(validation_dataloader)\n",
        "\n",
        "    validation_time = format_time(time.time() - t0)\n",
        "\n",
        "    # Se l'accuracy dell'epoca attuale è migliore, salvo lo state_dict del modello (salvo i \"parametri\" da utilizzare nel test)\n",
        "    if avg_val_accuracy > best_eval_accuracy:\n",
        "        torch.save(model.state_dict(), './models/bert_model.pth')\n",
        "        best_eval_accuracy = avg_val_accuracy\n",
        "\n",
        "    training_stats.append(\n",
        "        {\n",
        "            'epoch': epoch_i + 1,\n",
        "            'Training Loss': avg_train_loss,\n",
        "            'Valid. Loss': avg_val_loss,\n",
        "            'Valid. Accur.': avg_val_accuracy,\n",
        "            'Training Time': training_time,\n",
        "            'Validation Time': validation_time\n",
        "        }\n",
        "    )\n",
        "print(\"\")\n",
        "print(\"Training complete!\")\n",
        "\n",
        "print(\"Total training took {:} (h:mm:ss)\".format(format_time(time.time()-total_t0)))\n"
      ]
    },
    {
      "cell_type": "code",
      "execution_count": null,
      "metadata": {
        "id": "rv_G5-Pnog97"
      },
      "outputs": [],
      "source": [
        "# Testing\n",
        "\n",
        "# Carico lo state_dict del modello\n",
        "model.load_state_dict(torch.load('./models/bert_model.pth'))\n",
        "\n",
        "test_dataloader = DataLoader(\n",
        "            test_dataset,\n",
        "            sampler = SequentialSampler(test_dataset),\n",
        "            batch_size = batch_size\n",
        "        )\n",
        "\n",
        "predictions = []\n",
        "\n",
        "for batch in test_dataloader:\n",
        "        b_input_ids = batch[0]\n",
        "        b_input_ids = b_input_ids.type(torch.LongTensor)\n",
        "        b_input_ids = b_input_ids.to(device)\n",
        "        b_input_mask = batch[1].to(device)\n",
        "\n",
        "        with torch.no_grad():\n",
        "            output= model(b_input_ids,\n",
        "                                   token_type_ids=None,\n",
        "                                   attention_mask=b_input_mask)\n",
        "            logits = output.logits\n",
        "            logits = logits.detach().cpu().numpy()\n",
        "            pred_flat = np.argmax(logits, axis=1).flatten()\n",
        "\n",
        "            predictions.extend(list(pred_flat))\n",
        "\n",
        "test_label = test_dataset[:][2].to('cpu').numpy()   #si può fare in altro modo, ad es come nel validation set\n",
        "test_pred = predictions\n"
      ]
    },
    {
      "cell_type": "code",
      "execution_count": null,
      "metadata": {
        "id": "Y-IcJKuoog97",
        "outputId": "64646670-270a-494d-ed2d-6c6cb81ef105"
      },
      "outputs": [
        {
          "data": {
            "image/png": "[encoded data removed]",
            "text/plain": [
              "<Figure size 640x480 with 2 Axes>"
            ]
          },
          "metadata": {},
          "output_type": "display_data"
        }
      ],
      "source": [
        "# Mostro alcune metriche\n",
        "\n",
        "#test_accuracy = flat_accuracy(test_pred, test_label)\n",
        "cm = confusion_matrix(test_label, test_pred, labels=labels.unique())\n",
        "\n",
        "disp = ConfusionMatrixDisplay(confusion_matrix=cm, display_labels=final_df.super_category_name.unique())\n",
        "disp.plot()\n",
        "plt.show()"
      ]
    },
    {
      "cell_type": "code",
      "execution_count": null,
      "metadata": {
        "id": "zkYrtWCXog98",
        "outputId": "7fb9a9c7-0664-4f52-d52c-6960f218503d"
      },
      "outputs": [
        {
          "name": "stdout",
          "output_type": "stream",
          "text": [
            "                                                           precision    recall  f1-score   support\n",
            "\n",
            "                                               SOCIETARIO       0.96      0.94      0.95       402\n",
            "                                              IMMOBILIARE       0.97      0.98      0.97       369\n",
            "                                 VOLONTARIA GIURISDIZIONE       0.99      1.00      1.00       355\n",
            "ENTI DEL TERZO SETTORE ED ALTRI ENTI DEL LIBRO PRIMO C.C.       0.91      0.94      0.93       192\n",
            "                             LA FORMA DEGLI ATTI NOTARILI       0.93      0.99      0.96       120\n",
            "                      VOLONTARIA GIURISDIZIONE GIUDIZIALE       0.99      0.99      0.99       177\n",
            "          TRUST, VINCOLI DI DESTINAZIONE E ATTI CORRELATI       1.00      0.97      0.98       392\n",
            "\n",
            "                                                 accuracy                           0.97      2007\n",
            "                                                macro avg       0.97      0.97      0.97      2007\n",
            "                                             weighted avg       0.97      0.97      0.97      2007\n",
            "\n"
          ]
        }
      ],
      "source": [
        "print(classification_report(test_label, test_pred, target_names=final_df.super_category_name.unique()))"
      ]
    },
    {
      "cell_type": "code",
      "execution_count": null,
      "metadata": {
        "id": "lizbE234og99"
      },
      "outputs": [],
      "source": []
    }
  ],
  "metadata": {
    "kernelspec": {
      "display_name": "analysis_and_classification-liCwZ7IT",
      "language": "python",
      "name": "python3"
    },
    "language_info": {
      "codemirror_mode": {
        "name": "ipython",
        "version": 3
      },
      "file_extension": ".py",
      "mimetype": "text/x-python",
      "name": "python",
      "nbconvert_exporter": "python",
      "pygments_lexer": "ipython3",
      "version": "3.11.7"
    },
    "colab": {
      "provenance": []
    }
  },
  "nbformat": 4,
  "nbformat_minor": 0
}