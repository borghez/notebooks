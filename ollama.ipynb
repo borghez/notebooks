{
 "cells": [
  {
   "cell_type": "code",
   "execution_count": 10,
   "metadata": {},
   "outputs": [
    {
     "name": "stdout",
     "output_type": "stream",
     "text": [
      "Welcome to the chatbot! Type 'exit' to quit\n",
      "Bot:  Hello! How can I assist you today?\n",
      "Bot:  I'm ready to help. What's your question?\n",
      "Bot:  The post-World War II period in Italy was marked by significant social and political changes that ultimately led to a period of intense conflict between the state and radical left-wing groups, including the Brigate Rosse (Red Brigades).\n",
      "\n",
      "In the aftermath of World War II, Italy experienced rapid economic growth and industrialization, which created new social classes and tensions. The country's fascist regime under Benito Mussolini had been overthrown in 1943, but a period of instability and government change followed.\n",
      "\n",
      "The Italian Republic was established in 1946, with Enrico De Nicola as its first president. However, the early years of the republic were marked by economic crisis, corruption, and social unrest. In response to these challenges, the Christian Democracy (Democrazia Cristiana) party emerged as a dominant force in Italian politics.\n",
      "\n",
      "The late 1960s and early 1970s saw a wave of protests and demonstrations across Italy, led by student activists, workers, and left-wing groups. These movements demanded greater social and economic equality, an end to corruption, and improved working conditions.\n",
      "\n",
      "In response to this growing unrest, the Italian government began to take measures against radical left-wing groups. The state implemented a policy of \"dissuasion\" (dissuasione), aimed at preventing violent conflicts between protesters and security forces. However, this approach ultimately led to increased repression and violence.\n",
      "\n",
      "The Brigate Rosse (Red Brigades) emerged in the late 1960s as a radical left-wing group committed to armed struggle against the state. The group's activities became increasingly violent, with bombings, kidnappings, and assassinations targeting government officials, businessmen, and ordinary citizens.\n",
      "\n",
      "In response to these attacks, the Italian government implemented a policy of repression, including increased military presence in cities, surveillance of suspected activists, and the use of force against protesters. This led to further violence and polarization between the state and radical left-wing groups.\n",
      "\n",
      "Some notable events during this period include:\n",
      "\n",
      "* The assassination of Aldo Moro, leader of the Christian Democracy party, in 1978\n",
      "* The kidnapping and murder of former Prime Minister Giulio Andreotti's son, Francesco, in 1982\n",
      "* The bombing of a Milan train station by the Brigate Rosse in 1980\n",
      "\n",
      "The conflict between the state and radical left-wing groups continued until the late 1990s, when the Brigate Rosse declared an end to their armed activities.\n",
      "\n",
      "Today, Italy continues to grapple with the legacy of this period, including issues related to corruption, organized crime, and social inequality. The country has made significant progress in addressing these challenges, but the memory of the clash between the state and radical left-wing groups remains a sensitive topic.\n",
      "Bot:  You asked about the history of Italy after World War II, particularly focusing on the conflict with the Brigate Rosse (Red Brigades). The post-WWII period in Italy was marked by rapid economic growth and industrialization, which created new social classes and tensions. However, the country's fascist regime under Benito Mussolini was overthrown in 1943, leading to a period of instability and government change.\n",
      "\n",
      "The Italian Republic was established in 1946, but its early years were characterized by economic crisis, corruption, and social unrest. The Christian Democracy (Democrazia Cristiana) party emerged as a dominant force in Italian politics, addressing the country's challenges through measures such as \"dissuasion\" aimed at preventing violent conflicts.\n",
      "\n",
      "The late 1960s and early 1970s saw a wave of protests and demonstrations across Italy, led by student activists, workers, and left-wing groups. However, the government responded with repression, leading to increased violence and polarization between the state and radical left-wing groups. Notable events during this period include the assassination of Aldo Moro in 1978, the kidnapping and murder of Giulio Andreotti's son in 1982, and the bombing of a Milan train station by the Brigate Rosse in 1980.\n",
      "\n",
      "The conflict between the state and radical left-wing groups continued until the late 1990s, when the Brigate Rosse declared an end to their armed activities. Today, Italy grapples with the legacy of this period, including issues related to corruption, organized crime, and social inequality.\n"
     ]
    }
   ],
   "source": [
    "from langchain_ollama import OllamaLLM\n",
    "from langchain_core.prompts import ChatPromptTemplate\n",
    "\n",
    "template = \"\"\"\n",
    "Answer the question below.\n",
    "\n",
    "Here is the conversation history: {context}\n",
    "\n",
    "Question: {question}\n",
    "\n",
    "Answer:\n",
    "\"\"\"\n",
    "\n",
    "model = OllamaLLM(model=\"llama3.2:3b-instruct-q5_0\") #llama3.2\n",
    "\n",
    "prompt = ChatPromptTemplate.from_template(template)\n",
    "\n",
    "chain = prompt | model\n",
    "\n",
    "def handle_conversation():\n",
    "    context = \"\"\n",
    "    print(\"Welcome to the chatbot! Type 'exit' to quit\")\n",
    "    while True:\n",
    "        user_input = input(\"You: \")\n",
    "        if user_input.lower() == \"exit\":\n",
    "            break\n",
    "\n",
    "        result = chain.invoke({\"context\": context, \"question\": user_input})\n",
    "        print(\"Bot: \", result)\n",
    "        context += f\"\\nUser: {user_input}\\nAI: {result}\"\n",
    "\n",
    "if __name__ == \"__main__\":\n",
    "    handle_conversation()"
   ]
  },
  {
   "cell_type": "code",
   "execution_count": 4,
   "metadata": {},
   "outputs": [
    {
     "name": "stdout",
     "output_type": "stream",
     "text": [
      "The sky appears blue because of a phenomenon called Rayleigh scattering, named after the British physicist Lord Rayleigh, who first described it in the late 19th century.\n",
      "\n",
      "Here's what happens:\n",
      "\n",
      "1. **Sunlight enters Earth's atmosphere**: When sunlight enters our atmosphere, it consists of a spectrum of colors, including all the colors of the visible spectrum (red, orange, yellow, green, blue, indigo, and violet).\n",
      "2. **Scattering by air molecules**: As sunlight travels through the atmosphere, it encounters tiny molecules of gases such as nitrogen (N2) and oxygen (O2). These molecules scatter the light in all directions.\n",
      "3. **Shorter wavelengths scatter more**: The smaller wavelengths (like blue and violet) are scattered more than the longer wavelengths (like red and orange) because they are more easily deflected by the air molecules. This is known as Rayleigh scattering.\n",
      "4. **Blue light is scattered in all directions**: As a result of this scattering, the blue light is distributed throughout the atmosphere in all directions, making it visible to our eyes from any point on Earth.\n",
      "5. **Red light travels straight through**: Meanwhile, the longer wavelengths (like red and orange) continue to travel in a more direct path, reaching our eyes from the direction of the sun.\n",
      "\n",
      "As a result of this scattering, the blue light is dispersed throughout the atmosphere, giving the sky its blue appearance during the daytime when the sun is overhead. The color of the sky can also change depending on factors like atmospheric conditions, pollution levels, and time of day.\n",
      "\n",
      "I hope that helps explain why the sky appears blue!\n"
     ]
    }
   ],
   "source": [
    "import ollama\n",
    "\n",
    "response = ollama.chat(model='llama3.2', messages=[\n",
    "  {\n",
    "    'role': 'user',\n",
    "    'content': 'Why is the sky blue?',\n",
    "  },\n",
    "])\n",
    "print(response['message']['content'])"
   ]
  },
  {
   "cell_type": "code",
   "execution_count": 4,
   "metadata": {},
   "outputs": [
    {
     "name": "stdout",
     "output_type": "stream",
     "text": [
      "The image captures a stunning scene of an airplane soaring through the sky. The aircraft, appearing sleek and modern with its white body and pointed tail fin, is seen mid-flight against a backdrop painted by nature’s grandeur: vibrant hues of pink, orange, and yellow from what appears to be either sunrise or sunset, creating dramatic clouds that fill the lower part of the frame. This image not only highlights human ingenuity in aviation but also the breathtaking beauty found in natural phenomena when viewed up close while flying high above our world's surface.\n"
     ]
    }
   ],
   "source": [
    "import ollama\n",
    "\n",
    "with open(\"C:\\\\Users\\\\Andrea.Bagante\\\\Desktop\\\\airplane.jpg\", 'rb') as file:\n",
    "  response = ollama.chat(\n",
    "    model='minicpm-v', #llava #llama3.2-vision\n",
    "    messages=[\n",
    "      {\n",
    "        'role': 'user',\n",
    "        'content': \"What's in this image?\",\n",
    "        'images': [file.read()],\n",
    "      },\n",
    "    ],\n",
    "  )\n",
    "print(response['message']['content'])"
   ]
  },
  {
   "cell_type": "code",
   "execution_count": 9,
   "metadata": {},
   "outputs": [
    {
     "name": "stdout",
     "output_type": "stream",
     "text": [
      "  def reverse_string(my_string):\n",
      "      return my_string[::-1]\n",
      "\n",
      "This function takes in a string as an argument, and returns the reversed version of that string. The syntax `[::-1]` is used to slice the string in reverse order.\n"
     ]
    }
   ],
   "source": [
    "import ollama\n",
    "\n",
    "result = ollama.generate(\n",
    "  model='codellama',\n",
    "  prompt='// A python function to reverse a string\\n',\n",
    ")\n",
    "print(result['response'])"
   ]
  }
 ],
 "metadata": {
  "kernelspec": {
   "display_name": "mistral-d3nwVr9u-py3.11",
   "language": "python",
   "name": "python3"
  },
  "language_info": {
   "codemirror_mode": {
    "name": "ipython",
    "version": 3
   },
   "file_extension": ".py",
   "mimetype": "text/x-python",
   "name": "python",
   "nbconvert_exporter": "python",
   "pygments_lexer": "ipython3",
   "version": "3.11.7"
  }
 },
 "nbformat": 4,
 "nbformat_minor": 2
}
